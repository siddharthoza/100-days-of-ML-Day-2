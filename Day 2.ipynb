{
 "cells": [
  {
   "cell_type": "code",
   "execution_count": null,
   "metadata": {},
   "outputs": [],
   "source": [
    "#### Different ways of importing data\n",
    "#### Handling different missing values\n",
    "#### Encoding Categorical variables\n",
    "#### Splitting the dataset\n",
    "#### Feature scaling"
   ]
  },
  {
   "cell_type": "code",
   "execution_count": 2,
   "metadata": {},
   "outputs": [],
   "source": [
    "import pandas as pd\n",
    "from sklearn.model_selection import train_test_split\n",
    "from sklearn import preprocessing\n",
    "from sklearn.preprocessing import MinMaxScaler\n",
    "from sklearn.feature_selection import RFE\n",
    "from sklearn.feature_selection import RFECV\n",
    "from sklearn import preprocessing\n",
    "from matplotlib import pyplot as plt"
   ]
  },
  {
   "cell_type": "markdown",
   "metadata": {},
   "source": [
    "### 1. Different ways of importing datasets\n",
    "#### Datasets are generally available in .csv format. we use read_csv method of the pandas library to read a local CSV file as a dataframe. However there are times when we have to import different format files like .txt, .xlsx, zip files (.gz), pickled files (.pkl),sas files etc. "
   ]
  },
  {
   "cell_type": "code",
   "execution_count": 6,
   "metadata": {},
   "outputs": [],
   "source": [
    "# a. Importing excel files \n",
    "data = pd.read_excel(\"Main.xlsx\", index_col=0).values"
   ]
  },
  {
   "cell_type": "code",
   "execution_count": 8,
   "metadata": {},
   "outputs": [
    {
     "data": {
      "text/plain": [
       "array(['https://www.worldofwatches.com/mens-classics-leather-blue-dial-frederique-constant-fc-259bnt5b6',\n",
       "       'Frederique Constant', \"Men's Classics Leather Blue Dial\",\n",
       "       '$1,095.00', '$761.97', '\\n30%',\n",
       "       'In Stock - Available for Immediate Shipment!', 'Strap', '20 mm',\n",
       "       'Fixed', \"Date display at the 3 o'clock position\", 'Solid',\n",
       "       '39 mm', 'Stainless Steel', 'Round', '9 mm', 'Tang',\n",
       "       'Scratch Resistant Sapphire', 'Blue', 'Analog', nan,\n",
       "       'Leather, Stainless Steel', 'Date, Day, Hour, Minute, Second',\n",
       "       'Mens', 'Silver-tone', nan, 'Frederique Constant', 'Swiss Made',\n",
       "       'FC-259BNT5B6', 'Quartz', 'Classics', 'Dress Watches', 'Watches',\n",
       "       'Two - Date and Day of the Week', 7688200306301.0,\n",
       "       '2 Year WatchCenter Warranty', '50 meters / 165 feet',\n",
       "       'FC-259BNT5B6'], dtype=object)"
      ]
     },
     "execution_count": 8,
     "metadata": {},
     "output_type": "execute_result"
    }
   ],
   "source": [
    "data[5]"
   ]
  },
  {
   "cell_type": "code",
   "execution_count": 9,
   "metadata": {},
   "outputs": [],
   "source": [
    "# b. Importing CSV files\n",
    "data1=pd.read_csv(\"C:/Users/Siddharth/Documents/Python Scripts/datasets/Traffic_Violations.csv\", low_memory=False, index_col=0).values"
   ]
  },
  {
   "cell_type": "code",
   "execution_count": 12,
   "metadata": {},
   "outputs": [
    {
     "data": {
      "text/plain": [
       "array([['17:11:00', 'MCP', '3rd district, Silver Spring',\n",
       "        'DRIVING VEHICLE ON HIGHWAY WITH SUSPENDED REGISTRATION',\n",
       "        '8804 FLOWER AVE', nan, nan, 'No', 'No', 'No', 'No', 'No', 'No',\n",
       "        'No', 'No', 'No', 'No', 'MD', '02 - Automobile', 2008.0, 'FORD',\n",
       "        '4S', 'BLACK', 'Citation', '13-401(h)', 'Transportation Article',\n",
       "        'No', 'BLACK', 'M', 'TAKOMA PARK', 'MD', 'MD',\n",
       "        'A - Marked Patrol', nan],\n",
       "       ['10:19:00', 'MCP', '2nd district, Bethesda',\n",
       "        'DRIVER FAILURE TO OBEY PROPERLY PLACED TRAFFIC CONTROL DEVICE INSTRUCTIONS',\n",
       "        'WISCONSIN AVE@ ELM ST', 38.981725, -77.0927566666667, 'No',\n",
       "        'No', 'No', 'No', 'No', 'No', 'No', 'No', 'No', 'No', 'VA',\n",
       "        '02 - Automobile', 2001.0, 'TOYOTA', 'COROLLA', 'GREEN',\n",
       "        'Citation', '21-201(a1)', 'Transportation Article', 'No',\n",
       "        'WHITE', 'F', 'FAIRFAX STATION', 'VA', 'VA', 'A - Marked Patrol',\n",
       "        '(38.981725, -77.0927566666667)']], dtype=object)"
      ]
     },
     "execution_count": 12,
     "metadata": {},
     "output_type": "execute_result"
    }
   ],
   "source": [
    "data1[0:2]"
   ]
  },
  {
   "cell_type": "code",
   "execution_count": 19,
   "metadata": {},
   "outputs": [
    {
     "name": "stdout",
     "output_type": "stream",
     "text": [
      "[<th class=\"col label\" scope=\"row\">Band Type</th>,\n",
      " <th class=\"col label\" scope=\"row\">Band Width</th>,\n",
      " <th class=\"col label\" scope=\"row\">Bezel Material</th>,\n",
      " <th class=\"col label\" scope=\"row\">Calendar</th>,\n",
      " <th class=\"col label\" scope=\"row\">Case Back</th>,\n",
      " <th class=\"col label\" scope=\"row\">Case Diameter</th>,\n",
      " <th class=\"col label\" scope=\"row\">Case Material</th>,\n",
      " <th class=\"col label\" scope=\"row\">Case Shape</th>,\n",
      " <th class=\"col label\" scope=\"row\">Case Thickness</th>,\n",
      " <th class=\"col label\"\n"
     ]
    }
   ],
   "source": [
    "# c. Importing text files\n",
    "file=open (\"C:/Users/Siddharth/Documents/Python Scripts/datasets/example.txt\", mode='r')\n",
    "text=file.read()\n",
    "file.close()\n",
    "print (text[0:500])"
   ]
  },
  {
   "cell_type": "code",
   "execution_count": 23,
   "metadata": {},
   "outputs": [
    {
     "name": "stdout",
     "output_type": "stream",
     "text": [
      "[{'id': 's6ew-h6mp', 'name': 'Consumer Complaints', 'averageRating': 100, 'createdAt': 1431450318, 'description': 'Each week we send thousands of consumers\\' complaints about financial products and services to companies for response. Complaints are listed in the database after the company responds or after theyâ€™ve had the complaint for 15 calendar days, whichever comes first.<br><br>\\r\\n\\r\\nWe publish the consumerâ€™s description of what happened if the consumer opts to share it and after taking steps to remove personal information. See our <a href=\"http://files.consumerfinance.gov/a/assets/201503_cfpb_Narrative-Scrubbing-Standard.pdf\">Scrubbing Standard</a> for more details<br><br>\\r\\n\\r\\nWe donâ€™t verify all the facts alleged in these complaints, but we take steps to confirm a commercial relationship. We may remove complaints if they donâ€™t meet all of the publication criteria. Data is generally refreshed nightly. Company level information should be considered in context of company size and/or market share.<br><br>\\r\\n\\r\\n<a href=\"http://www.consumerfinance.gov/complaintdatabase/\">More about the Consumer Complaint Database</a> | <a href=\"http://www.consumerfinance.gov/complaint/data-use/\">How we use complaint data</a> | <a href=\"http://www.consumerfinance.gov/complaintdatabase/technical-documentation/\">Technical documentation</a>', 'displayType': 'table', 'downloadCount': 187408, 'hideFromCatalog': False, 'hideFromDataJson': False, 'indexUpdatedAt': 1537856269, 'newBackend': False, 'numberOfComments': 0, 'oid': 22198008, 'provenance': 'official', 'publicationAppendEnabled': False, 'publicationDate': 1467818298, 'publicationGroup': 2819740, 'publicationStage': 'published', 'rowClass': '', 'rowsUpdatedAt': 1537856098, 'rowsUpdatedBy': 'pjxg-ve4m', 'tableId': 11756201, 'totalTimesRated': 2, 'viewCount': 646364, 'viewLastModified': 1501764095, 'viewType': 'tabular', 'grants': [{'inherited': False, 'type': 'viewer', 'flags': ['public']}], 'metadata': {'jsonQuery': {'order': [{'ascending': False, 'columnFieldName': 'date_received'}]}, 'rdfSubject': '0', 'rdfClass': '', 'rowIdentifier': '0', 'availableDisplayTypes': ['table', 'fatrow', 'page'], 'rowLabel': 'Complaint', 'renderTypeConfig': {'visible': {'table': True}}}, 'owner': {'id': 'pjxg-ve4m', 'displayName': 'Shannon Files', 'screenName': 'Shannon Files', 'type': 'interactive', 'flags': ['mayBeStoriesCoOwner']}, 'ratings': {'rating': 100}, 'rights': ['read'], 'tableAuthor': {'id': 'pjxg-ve4m', 'displayName': 'Shannon Files', 'screenName': 'Shannon Files', 'type': 'interactive', 'flags': ['mayBeStoriesCoOwner']}, 'flags': ['default', 'restorable', 'restorePossibleForType']}]\n"
     ]
    }
   ],
   "source": [
    "# d. Importing Flat files\n",
    "import json\n",
    "with open(\"C:/Users/Siddharth/Documents/Python Scripts/datasets/ConsumerComplainDataset.json\") as json_data:\n",
    "    d = json.load(json_data)\n",
    "    print(d[0:1])"
   ]
  },
  {
   "cell_type": "code",
   "execution_count": null,
   "metadata": {},
   "outputs": [],
   "source": [
    "# e. Importing dta (stata) Files\n",
    "data = pd.read_stata(\"C:/Users/Siddharth/Documents/Python Scripts/datasets/Final_cart.dta\")"
   ]
  },
  {
   "cell_type": "markdown",
   "metadata": {},
   "source": [
    "#### How to create a python database and connect to it will be covered in the coming python notebook"
   ]
  },
  {
   "cell_type": "markdown",
   "metadata": {},
   "source": [
    "#### 2. Handling Missing Values"
   ]
  },
  {
   "cell_type": "code",
   "execution_count": null,
   "metadata": {},
   "outputs": [],
   "source": []
  }
 ],
 "metadata": {
  "kernelspec": {
   "display_name": "Python 3",
   "language": "python",
   "name": "python3"
  },
  "language_info": {
   "codemirror_mode": {
    "name": "ipython",
    "version": 3
   },
   "file_extension": ".py",
   "mimetype": "text/x-python",
   "name": "python",
   "nbconvert_exporter": "python",
   "pygments_lexer": "ipython3",
   "version": "3.6.5"
  }
 },
 "nbformat": 4,
 "nbformat_minor": 2
}
